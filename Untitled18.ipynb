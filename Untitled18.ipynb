{
  "nbformat": 4,
  "nbformat_minor": 0,
  "metadata": {
    "colab": {
      "provenance": [],
      "authorship_tag": "ABX9TyP7qAC1zGLWB9pOQBwE/3N3",
      "include_colab_link": true
    },
    "kernelspec": {
      "name": "python3",
      "display_name": "Python 3"
    },
    "language_info": {
      "name": "python"
    }
  },
  "cells": [
    {
      "cell_type": "markdown",
      "metadata": {
        "id": "view-in-github",
        "colab_type": "text"
      },
      "source": [
        "<a href=\"https://colab.research.google.com/github/gkkhnyldz/KNN/blob/main/Untitled18.ipynb\" target=\"_parent\"><img src=\"https://colab.research.google.com/assets/colab-badge.svg\" alt=\"Open In Colab\"/></a>"
      ]
    },
    {
      "cell_type": "code",
      "execution_count": null,
      "metadata": {
        "id": "pkIHuK4iZDBa"
      },
      "outputs": [],
      "source": [
        "from osgeo import gdal\n",
        "import pandas as pd\n",
        "\n",
        "import numpy as np\n",
        "import matplotlib.pyplot as plt\n",
        "def scaleMinMax(x):\n",
        "  return((x-np.nanmin(x))/(np.nanmax(x)-np.nanmin(x)))\n",
        "def scaleCCC(x):\n",
        "  return((x-np.nanpercentile(x,2))/(np.nanpercentile(x,98)-np.nanpercentile(x,2)))\n",
        "\n",
        "datasetTrainingGT=gdal.Open(\"/content/S2A_MSIL1C_20220516_Train_GT.tif\")\n",
        "\n",
        "# Read the data from the first GeoTIFF file into a NumPy array\n",
        "trainGT2d = datasetTrainingGT.ReadAsArray()\n",
        "trainGT2d = np.swapaxes(trainGT2d, 0, 1)\n",
        "# Convert the 2-dimensional NumPy arrays into 2-dimensional arrays with rows and columns\n",
        "\n",
        "trainGT1d = trainGT2d.reshape(trainGT2d.shape[0] * trainGT2d.shape[1], 1)\n",
        "dfTrainLabels = pd.DataFrame(trainGT1d)\n",
        "dfTrainLabels\n",
        "# Export the DataFrame as a CSV file\n",
        "# dfTrainLabels.to_csv('train.csv', index=False)\n",
        "np.save('train_gt.npy', trainGT1d)\n",
        "\n",
        "datasetTraining = gdal.Open('/content/S2A_MSIL1C_20220516_TrainingData.tif')\n",
        "\n",
        "# Read the data from the first GeoTIFF file into a NumPy array\n",
        "dataTraing = datasetTraining.ReadAsArray()\n",
        "dataTraing = np.swapaxes(dataTraing, 0, 2)\n",
        "# Convert the 2-dimensional NumPy arrays into 2-dimensional arrays with rows and columns\n",
        "dataTraining1d = dataTraing.reshape(dataTraing.shape[0] * dataTraing.shape[1], -1)\n",
        "dfTrain = pd.DataFrame(dataTraining1d)\n",
        "\n",
        "\n",
        "\n",
        "\n",
        "final_data = pd.concat([dfTrainLabels, dfTrain])\n",
        "\n",
        "train_label_data = pd.concat([dfTrainLabels, dfTrain], axis=1)\n",
        "train_label_data.columns=['Code', 'Blue', 'Green', 'Red', 'NIR']\n",
        "train_label_data.to_csv('train.csv')\n",
        "\n",
        "np.save('train.npy', dataTraining1d)\n",
        "\n",
        "datasetTest = gdal.Open('/content/S2B_MSIL1C_20220528_Test.tif')\n",
        "\n",
        "# Read the data from the first GeoTIFF file into a NumPy array\n",
        "dataTest2d = datasetTest.ReadAsArray()\n",
        "dataTest2d = np.swapaxes(dataTest2d, 0, 2)\n",
        "# Convert the 2-dimensional NumPy arrays into 2-dimensional arrays with rows and columns\n",
        "dataTest1d = dataTest2d.reshape(dataTest2d.shape[0] * dataTest2d.shape[1], -1)\n",
        "np.save('test_all.npy', dataTest1d)\n",
        "# Convert the combined array into a Pandas DataFrame\n",
        "dfTest = pd.DataFrame(dataTest1d)\n",
        "dfTest.columns=['Blue', 'Green', 'Red', 'NIR']\n",
        "# Export the DataFrame as a CSV file\n",
        "dfTest.to_csv('test.csv')\n",
        "\n",
        "\n"
      ]
    },
    {
      "cell_type": "code",
      "source": [
        "X_Test"
      ],
      "metadata": {
        "colab": {
          "base_uri": "https://localhost:8080/"
        },
        "id": "cOIea6DilTYE",
        "outputId": "3a1a7cd0-6d48-4c85-e3e4-fa3bb8b39660"
      },
      "execution_count": null,
      "outputs": [
        {
          "output_type": "execute_result",
          "data": {
            "text/plain": [
              "array([[2326, 2003, 1843, 1821],\n",
              "       [2259, 1965, 1837, 1754],\n",
              "       [1868, 1759, 1555, 3359],\n",
              "       ...,\n",
              "       [2310, 2236, 2160, 3092],\n",
              "       [2456, 2196, 2094, 2008],\n",
              "       [3249, 3207, 3474, 3718]], dtype=uint16)"
            ]
          },
          "metadata": {},
          "execution_count": 49
        }
      ]
    },
    {
      "cell_type": "code",
      "source": [
        "  test_size=0.1\n",
        "  listess=[]\n",
        "  kvalues=[]\n",
        "  sizevalues=[]\n",
        "  for i in range(2):\n",
        "    predictionsList=list()\n",
        "    \n",
        "    k=1\n",
        "    for i in range(2):\n",
        "\n",
        "\n",
        "\n",
        "      from sklearn.model_selection import train_test_split\n",
        "      X_Train, X_test, y_train, y_test = train_test_split(dataTraining1d, trainGT1d, test_size=test_size)\n",
        "\n",
        "\n",
        "      from sklearn.model_selection import cross_val_score\n",
        "      from sklearn.neighbors import KNeighborsClassifier\n",
        "      from sklearn.metrics import accuracy_score, confusion_matrix, ConfusionMatrixDisplay, classification_report\n",
        "\n",
        "      # Create the KNN classifier with k=1\n",
        "      clf = KNeighborsClassifier(n_neighbors=k)\n",
        "      clf.fit(X_Train,y_train)\n",
        "\n",
        "      # Predict labels for new data\n",
        "      predictions = clf.predict(X_test)\n",
        "      k+=1\n",
        "      predictionsList.append(predictions)\n",
        "    test_size+=0.10\n",
        "    accuracy = accuracy_score(y_test, predictions)\n",
        "    listess.append(accuracy)\n",
        "\n",
        "\n",
        "\n",
        "    \n",
        "\n",
        "\n"
      ],
      "metadata": {
        "id": "XkWM-6Gthj4o",
        "colab": {
          "base_uri": "https://localhost:8080/"
        },
        "outputId": "17d72bf7-4a77-484a-b11f-5343d9d81c0f"
      },
      "execution_count": null,
      "outputs": [
        {
          "output_type": "stream",
          "name": "stderr",
          "text": [
            "/usr/local/lib/python3.8/dist-packages/sklearn/neighbors/_classification.py:198: DataConversionWarning: A column-vector y was passed when a 1d array was expected. Please change the shape of y to (n_samples,), for example using ravel().\n",
            "  return self._fit(X, y)\n",
            "/usr/local/lib/python3.8/dist-packages/sklearn/neighbors/_classification.py:198: DataConversionWarning: A column-vector y was passed when a 1d array was expected. Please change the shape of y to (n_samples,), for example using ravel().\n",
            "  return self._fit(X, y)\n",
            "/usr/local/lib/python3.8/dist-packages/sklearn/neighbors/_classification.py:198: DataConversionWarning: A column-vector y was passed when a 1d array was expected. Please change the shape of y to (n_samples,), for example using ravel().\n",
            "  return self._fit(X, y)\n",
            "/usr/local/lib/python3.8/dist-packages/sklearn/neighbors/_classification.py:198: DataConversionWarning: A column-vector y was passed when a 1d array was expected. Please change the shape of y to (n_samples,), for example using ravel().\n",
            "  return self._fit(X, y)\n"
          ]
        }
      ]
    },
    {
      "cell_type": "code",
      "source": [
        "print(listess)"
      ],
      "metadata": {
        "colab": {
          "base_uri": "https://localhost:8080/"
        },
        "id": "1eAuonbsvy_R",
        "outputId": "e31069f3-b2f8-4161-9512-eac9cb27cf65"
      },
      "execution_count": null,
      "outputs": [
        {
          "output_type": "stream",
          "name": "stdout",
          "text": [
            "[0.8708596601896568, 0.8697421419744469]\n"
          ]
        }
      ]
    },
    {
      "cell_type": "code",
      "source": [
        "predictions"
      ],
      "metadata": {
        "colab": {
          "base_uri": "https://localhost:8080/"
        },
        "id": "tEf5xQPYmpJI",
        "outputId": "69e1fc0e-d781-4274-8ce1-6c15e527489e"
      },
      "execution_count": null,
      "outputs": [
        {
          "output_type": "execute_result",
          "data": {
            "text/plain": [
              "array([ 0, 10, 10, ..., 80, 80, 80], dtype=uint8)"
            ]
          },
          "metadata": {},
          "execution_count": 56
        }
      ]
    },
    {
      "cell_type": "code",
      "source": [
        "accuracy = accuracy_score(y_test, predictions)\n",
        "print(f'Accuracy: {accuracy:.2%}')"
      ],
      "metadata": {
        "colab": {
          "base_uri": "https://localhost:8080/"
        },
        "id": "4gClyd3_lvPT",
        "outputId": "764d9acd-5fe8-45d9-ea65-6df8d2a84bdf"
      },
      "execution_count": null,
      "outputs": [
        {
          "output_type": "stream",
          "name": "stdout",
          "text": [
            "Accuracy: 89.19%\n"
          ]
        }
      ]
    }
  ]
}